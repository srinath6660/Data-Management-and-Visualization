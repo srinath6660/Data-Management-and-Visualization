{
 "cells": [
  {
   "cell_type": "code",
   "execution_count": 3,
   "metadata": {},
   "outputs": [],
   "source": [
    "import numpy as np\n",
    "import pandas as pd\n",
    "import seaborn as sns\n",
    "import matplotlib.pyplot as plt"
   ]
  },
  {
   "cell_type": "code",
   "execution_count": 4,
   "metadata": {},
   "outputs": [],
   "source": [
    "dataoriginal = pd.read_csv('gapminder.csv')"
   ]
  },
  {
   "cell_type": "code",
   "execution_count": 5,
   "metadata": {},
   "outputs": [],
   "source": [
    "datacopy = dataoriginal[[\"country\", \"urbanrate\", \"incomeperperson\", \"internetuserate\", \"alcconsumption\", \"femaleemployrate\", \"lifeexpectancy\", \"employrate\"]]\n",
    "data = datacopy.copy()"
   ]
  },
  {
   "cell_type": "code",
   "execution_count": 6,
   "metadata": {},
   "outputs": [],
   "source": [
    "data= data.replace(0, np.NaN)\n",
    "data = data.dropna()"
   ]
  },
  {
   "cell_type": "code",
   "execution_count": 7,
   "metadata": {},
   "outputs": [
    {
     "data": {
      "text/html": [
       "<div>\n",
       "<style scoped>\n",
       "    .dataframe tbody tr th:only-of-type {\n",
       "        vertical-align: middle;\n",
       "    }\n",
       "\n",
       "    .dataframe tbody tr th {\n",
       "        vertical-align: top;\n",
       "    }\n",
       "\n",
       "    .dataframe thead th {\n",
       "        text-align: right;\n",
       "    }\n",
       "</style>\n",
       "<table border=\"1\" class=\"dataframe\">\n",
       "  <thead>\n",
       "    <tr style=\"text-align: right;\">\n",
       "      <th></th>\n",
       "      <th>country</th>\n",
       "      <th>urbanrate</th>\n",
       "      <th>incomeperperson</th>\n",
       "      <th>internetuserate</th>\n",
       "      <th>alcconsumption</th>\n",
       "      <th>femaleemployrate</th>\n",
       "      <th>lifeexpectancy</th>\n",
       "      <th>employrate</th>\n",
       "    </tr>\n",
       "  </thead>\n",
       "  <tbody>\n",
       "    <tr>\n",
       "      <th>0</th>\n",
       "      <td>Afghanistan</td>\n",
       "      <td>24.04</td>\n",
       "      <td></td>\n",
       "      <td>3.65412162280064</td>\n",
       "      <td>.03</td>\n",
       "      <td>25.6000003814697</td>\n",
       "      <td>48.673</td>\n",
       "      <td>55.7000007629394</td>\n",
       "    </tr>\n",
       "    <tr>\n",
       "      <th>1</th>\n",
       "      <td>Albania</td>\n",
       "      <td>46.72</td>\n",
       "      <td>1914.99655094922</td>\n",
       "      <td>44.9899469578783</td>\n",
       "      <td>7.29</td>\n",
       "      <td>42.0999984741211</td>\n",
       "      <td>76.918</td>\n",
       "      <td>51.4000015258789</td>\n",
       "    </tr>\n",
       "    <tr>\n",
       "      <th>2</th>\n",
       "      <td>Algeria</td>\n",
       "      <td>65.22</td>\n",
       "      <td>2231.99333515006</td>\n",
       "      <td>12.5000733055148</td>\n",
       "      <td>.69</td>\n",
       "      <td>31.7000007629394</td>\n",
       "      <td>73.131</td>\n",
       "      <td>50.5</td>\n",
       "    </tr>\n",
       "    <tr>\n",
       "      <th>3</th>\n",
       "      <td>Andorra</td>\n",
       "      <td>88.92</td>\n",
       "      <td>21943.3398976022</td>\n",
       "      <td>81</td>\n",
       "      <td>10.17</td>\n",
       "      <td></td>\n",
       "      <td></td>\n",
       "      <td></td>\n",
       "    </tr>\n",
       "    <tr>\n",
       "      <th>4</th>\n",
       "      <td>Angola</td>\n",
       "      <td>56.7</td>\n",
       "      <td>1381.00426770244</td>\n",
       "      <td>9.99995388324075</td>\n",
       "      <td>5.57</td>\n",
       "      <td>69.4000015258789</td>\n",
       "      <td>51.093</td>\n",
       "      <td>75.6999969482422</td>\n",
       "    </tr>\n",
       "    <tr>\n",
       "      <th>...</th>\n",
       "      <td>...</td>\n",
       "      <td>...</td>\n",
       "      <td>...</td>\n",
       "      <td>...</td>\n",
       "      <td>...</td>\n",
       "      <td>...</td>\n",
       "      <td>...</td>\n",
       "      <td>...</td>\n",
       "    </tr>\n",
       "    <tr>\n",
       "      <th>208</th>\n",
       "      <td>Vietnam</td>\n",
       "      <td>27.84</td>\n",
       "      <td>722.807558834445</td>\n",
       "      <td>27.8518215557703</td>\n",
       "      <td>3.91</td>\n",
       "      <td>67.5999984741211</td>\n",
       "      <td>75.181</td>\n",
       "      <td>71</td>\n",
       "    </tr>\n",
       "    <tr>\n",
       "      <th>209</th>\n",
       "      <td>West Bank and Gaza</td>\n",
       "      <td>71.9</td>\n",
       "      <td></td>\n",
       "      <td>36.4227717919075</td>\n",
       "      <td></td>\n",
       "      <td>11.3000001907349</td>\n",
       "      <td>72.832</td>\n",
       "      <td>32</td>\n",
       "    </tr>\n",
       "    <tr>\n",
       "      <th>210</th>\n",
       "      <td>Yemen, Rep.</td>\n",
       "      <td>30.64</td>\n",
       "      <td>610.3573673206</td>\n",
       "      <td>12.3497504635596</td>\n",
       "      <td>.2</td>\n",
       "      <td>20.2999992370605</td>\n",
       "      <td>65.493</td>\n",
       "      <td>39</td>\n",
       "    </tr>\n",
       "    <tr>\n",
       "      <th>211</th>\n",
       "      <td>Zambia</td>\n",
       "      <td>35.42</td>\n",
       "      <td>432.226336974583</td>\n",
       "      <td>10.124986462443</td>\n",
       "      <td>3.56</td>\n",
       "      <td>53.5</td>\n",
       "      <td>49.025</td>\n",
       "      <td>61</td>\n",
       "    </tr>\n",
       "    <tr>\n",
       "      <th>212</th>\n",
       "      <td>Zimbabwe</td>\n",
       "      <td>37.34</td>\n",
       "      <td>320.771889948584</td>\n",
       "      <td>11.5004153209768</td>\n",
       "      <td>4.96</td>\n",
       "      <td>58.0999984741211</td>\n",
       "      <td>51.384</td>\n",
       "      <td>66.8000030517578</td>\n",
       "    </tr>\n",
       "  </tbody>\n",
       "</table>\n",
       "<p>213 rows × 8 columns</p>\n",
       "</div>"
      ],
      "text/plain": [
       "                country urbanrate   incomeperperson   internetuserate  \\\n",
       "0           Afghanistan     24.04                    3.65412162280064   \n",
       "1               Albania     46.72  1914.99655094922  44.9899469578783   \n",
       "2               Algeria     65.22  2231.99333515006  12.5000733055148   \n",
       "3               Andorra     88.92  21943.3398976022                81   \n",
       "4                Angola      56.7  1381.00426770244  9.99995388324075   \n",
       "..                  ...       ...               ...               ...   \n",
       "208             Vietnam     27.84  722.807558834445  27.8518215557703   \n",
       "209  West Bank and Gaza      71.9                    36.4227717919075   \n",
       "210         Yemen, Rep.     30.64    610.3573673206  12.3497504635596   \n",
       "211              Zambia     35.42  432.226336974583   10.124986462443   \n",
       "212            Zimbabwe     37.34  320.771889948584  11.5004153209768   \n",
       "\n",
       "    alcconsumption  femaleemployrate lifeexpectancy        employrate  \n",
       "0              .03  25.6000003814697         48.673  55.7000007629394  \n",
       "1             7.29  42.0999984741211         76.918  51.4000015258789  \n",
       "2              .69  31.7000007629394         73.131              50.5  \n",
       "3            10.17                                                     \n",
       "4             5.57  69.4000015258789         51.093  75.6999969482422  \n",
       "..             ...               ...            ...               ...  \n",
       "208           3.91  67.5999984741211         75.181                71  \n",
       "209                 11.3000001907349         72.832                32  \n",
       "210             .2  20.2999992370605         65.493                39  \n",
       "211           3.56              53.5         49.025                61  \n",
       "212           4.96  58.0999984741211         51.384  66.8000030517578  \n",
       "\n",
       "[213 rows x 8 columns]"
      ]
     },
     "execution_count": 7,
     "metadata": {},
     "output_type": "execute_result"
    }
   ],
   "source": [
    "data"
   ]
  },
  {
   "cell_type": "code",
   "execution_count": 8,
   "metadata": {},
   "outputs": [
    {
     "data": {
      "text/plain": [
       "country             object\n",
       "urbanrate           object\n",
       "incomeperperson     object\n",
       "internetuserate     object\n",
       "alcconsumption      object\n",
       "femaleemployrate    object\n",
       "lifeexpectancy      object\n",
       "employrate          object\n",
       "dtype: object"
      ]
     },
     "execution_count": 8,
     "metadata": {},
     "output_type": "execute_result"
    }
   ],
   "source": [
    "data.dtypes"
   ]
  },
  {
   "cell_type": "code",
   "execution_count": 9,
   "metadata": {},
   "outputs": [
    {
     "data": {
      "text/plain": [
       "country             0\n",
       "urbanrate           0\n",
       "incomeperperson     0\n",
       "internetuserate     0\n",
       "alcconsumption      0\n",
       "femaleemployrate    0\n",
       "lifeexpectancy      0\n",
       "employrate          0\n",
       "dtype: int64"
      ]
     },
     "execution_count": 9,
     "metadata": {},
     "output_type": "execute_result"
    }
   ],
   "source": [
    "data.isnull().sum()"
   ]
  },
  {
   "cell_type": "code",
   "execution_count": 10,
   "metadata": {},
   "outputs": [],
   "source": [
    "data[\"internetuserate\"] = pd.to_numeric(data[\"internetuserate\"], errors='coerce')\n",
    "data['alcconsumption'] = pd.to_numeric(data['alcconsumption'], errors='coerce')\n",
    "data['incomeperperson'] = pd.to_numeric(data['incomeperperson'], errors='coerce')\n",
    "data['urbanrate'] = pd.to_numeric(data['urbanrate'], errors='coerce')\n",
    "data['femaleemployrate'] = pd.to_numeric(data['femaleemployrate'], errors='coerce')\n",
    "data['lifeexpectancy'] = pd.to_numeric(data['lifeexpectancy'], errors='coerce')\n",
    "data['employrate'] = pd.to_numeric(data['employrate'], errors='coerce')"
   ]
  },
  {
   "cell_type": "code",
   "execution_count": 11,
   "metadata": {},
   "outputs": [
    {
     "data": {
      "text/plain": [
       "country              object\n",
       "urbanrate           float64\n",
       "incomeperperson     float64\n",
       "internetuserate     float64\n",
       "alcconsumption      float64\n",
       "femaleemployrate    float64\n",
       "lifeexpectancy      float64\n",
       "employrate          float64\n",
       "dtype: object"
      ]
     },
     "execution_count": 11,
     "metadata": {},
     "output_type": "execute_result"
    }
   ],
   "source": [
    "data.dtypes"
   ]
  },
  {
   "cell_type": "code",
   "execution_count": 14,
   "metadata": {},
   "outputs": [
    {
     "name": "stdout",
     "output_type": "stream",
     "text": [
      "first values for capita GDP:\n",
      "              counts  percentages\n",
      "NaN               23     0.107981\n",
      "8614.120219        1     0.004695\n",
      "39972.352768       1     0.004695\n",
      "279.180453         1     0.004695\n",
      "161.317137         1     0.004695\n"
     ]
    }
   ],
   "source": [
    "#income per person\n",
    "print(\"first values for capita GDP:\")\n",
    "gdp_freq = pd.concat(dict(counts = data[\"incomeperperson\"].value_counts(sort=False, dropna=False), percentages = data[\"incomeperperson\"].value_counts(sort=False, dropna=False, normalize=True)), axis=1)\n",
    "print(gdp_freq.head(5))"
   ]
  },
  {
   "cell_type": "code",
   "execution_count": 15,
   "metadata": {},
   "outputs": [
    {
     "name": "stdout",
     "output_type": "stream",
     "text": [
      "first values for urban rate:\n",
      "       counts  percentages\n",
      "92.0        1     0.004695\n",
      "100.0       6     0.028169\n",
      "74.5        1     0.004695\n",
      "NaN        10     0.046948\n",
      "73.5        1     0.004695\n",
      "first values for capita GDP:\n",
      "              counts  percentages\n",
      "NaN               23     0.107981\n",
      "8614.120219        1     0.004695\n",
      "39972.352768       1     0.004695\n",
      "279.180453         1     0.004695\n",
      "161.317137         1     0.004695\n",
      "Internet Usage: \n",
      "           counts  percentages\n",
      "81.000000       1     0.004695\n",
      "66.000000       1     0.004695\n",
      "45.000000       1     0.004695\n",
      "NaN            21     0.098592\n",
      "2.100213        1     0.004695\n",
      "employ rate: \n",
      "      counts  percentages\n",
      "50.5       1     0.004695\n",
      "NaN       35     0.164319\n",
      "61.5       3     0.014085\n",
      "46.0       2     0.009390\n",
      "64.5       1     0.004695\n"
     ]
    }
   ],
   "source": [
    "\n",
    "print(\"first values for urban rate:\")\n",
    "urbanrate_freq = pd.concat(dict(counts = data[\"urbanrate\"].value_counts(sort=False, dropna=False), percentages = data[\"urbanrate\"].value_counts(sort=False, dropna=False, normalize=True)), axis=1)\n",
    "print(urbanrate_freq.head(5))\n",
    "\n",
    "\n",
    "print(\"first values for capita GDP:\")\n",
    "gdp_freq = pd.concat(dict(counts = data[\"incomeperperson\"].value_counts(sort=False, dropna=False), percentages = data[\"incomeperperson\"].value_counts(sort=False, dropna=False, normalize=True)), axis=1)\n",
    "print(gdp_freq.head(5))\n",
    "\n",
    "print(\"Internet Usage: \")\n",
    "internet_freq = pd.concat(dict(counts = data[\"internetuserate\"].value_counts(sort=False, dropna=False), percentages = data[\"internetuserate\"].value_counts(sort=False, dropna=False, normalize=True)), axis=1)\n",
    "print(internet_freq.head(5))\n",
    "\n",
    "\n",
    "print(\"employ rate: \") \n",
    "employ_freq = pd.concat(dict(counts = data[\"employrate\"].value_counts(sort=False, dropna=False), percentages = data[\"employrate\"].value_counts(sort=False, dropna=False, normalize=True)), axis=1)\n",
    "print(employ_freq.head(5))\n"
   ]
  },
  {
   "cell_type": "code",
   "execution_count": 16,
   "metadata": {},
   "outputs": [
    {
     "name": "stdout",
     "output_type": "stream",
     "text": [
      "Income per person in categories\n",
      "Frequency distribution - income per person:\n",
      "            counts  percentages\n",
      "low           169     0.793427\n",
      "medium         18     0.084507\n",
      "high            1     0.004695\n",
      "very high       2     0.009390\n",
      "NaN            23     0.107981\n",
      "Countries with high and very high GDP\n",
      "           country  incomeperperson incomelabel\n",
      "109  Liechtenstein     81647.100031   very high\n",
      "127         Monaco    105147.437697   very high\n",
      "20         Bermuda     62682.147006        high\n"
     ]
    }
   ],
   "source": [
    "print('Income per person in categories')\n",
    "data['incomelabel'] =pd.cut(data.incomeperperson,4,labels=['low','medium','high','very high'])\n",
    "income_freq = pd.concat(dict(counts = data[\"incomelabel\"].value_counts(sort=False, dropna=False),\n",
    "                                   percentages = data[\"incomelabel\"].value_counts(sort=False, dropna=False,\n",
    "                                                                                       normalize=True)),\n",
    "                            axis=1)\n",
    "print(\"Frequency distribution - income per person:\\n\", income_freq)\n",
    "\n",
    "\n",
    "print('Countries with high and very high GDP')\n",
    "highincome = data[(data['incomelabel'] == 'high') | (data['incomelabel'] == 'very high') ]\n",
    "print(highincome.loc[:, ['country', 'incomeperperson', 'incomelabel']].sort_values(by='incomelabel', ascending=False))"
   ]
  },
  {
   "cell_type": "code",
   "execution_count": 19,
   "metadata": {},
   "outputs": [
    {
     "name": "stdout",
     "output_type": "stream",
     "text": [
      "Countries by country\n",
      "country\n",
      "Afghanistan           1\n",
      "Albania               1\n",
      "Algeria               1\n",
      "Andorra               1\n",
      "Angola                1\n",
      "                     ..\n",
      "Vietnam               1\n",
      "West Bank and Gaza    1\n",
      "Yemen, Rep.           1\n",
      "Zambia                1\n",
      "Zimbabwe              1\n",
      "Length: 213, dtype: int64\n",
      "\n",
      "\n",
      "GDP Statistics by country\n",
      "                            mean        median  len\n",
      "country                                            \n",
      "Afghanistan                  NaN           NaN  1.0\n",
      "Albania              1914.996551   1914.996551  1.0\n",
      "Algeria              2231.993335   2231.993335  1.0\n",
      "Andorra             21943.339898  21943.339898  1.0\n",
      "Angola               1381.004268   1381.004268  1.0\n",
      "...                          ...           ...  ...\n",
      "Vietnam               722.807559    722.807559  1.0\n",
      "West Bank and Gaza           NaN           NaN  1.0\n",
      "Yemen, Rep.           610.357367    610.357367  1.0\n",
      "Zambia                432.226337    432.226337  1.0\n",
      "Zimbabwe              320.771890    320.771890  1.0\n",
      "\n",
      "[213 rows x 3 columns]\n",
      "Urban rate by country\n",
      "                     mean  median  len\n",
      "country                               \n",
      "Afghanistan         24.04   24.04  1.0\n",
      "Albania             46.72   46.72  1.0\n",
      "Algeria             65.22   65.22  1.0\n",
      "Andorra             88.92   88.92  1.0\n",
      "Angola              56.70   56.70  1.0\n",
      "...                   ...     ...  ...\n",
      "Vietnam             27.84   27.84  1.0\n",
      "West Bank and Gaza  71.90   71.90  1.0\n",
      "Yemen, Rep.         30.64   30.64  1.0\n",
      "Zambia              35.42   35.42  1.0\n",
      "Zimbabwe            37.34   37.34  1.0\n",
      "\n",
      "[213 rows x 3 columns]\n",
      "Urban rate by country\n",
      "                         mean     median  len\n",
      "country                                      \n",
      "Afghanistan          3.654122   3.654122  1.0\n",
      "Albania             44.989947  44.989947  1.0\n",
      "Algeria             12.500073  12.500073  1.0\n",
      "Andorra             81.000000  81.000000  1.0\n",
      "Angola               9.999954   9.999954  1.0\n",
      "...                       ...        ...  ...\n",
      "Vietnam             27.851822  27.851822  1.0\n",
      "West Bank and Gaza  36.422772  36.422772  1.0\n",
      "Yemen, Rep.         12.349750  12.349750  1.0\n",
      "Zambia              10.124986  10.124986  1.0\n",
      "Zimbabwe            11.500415  11.500415  1.0\n",
      "\n",
      "[213 rows x 3 columns]\n"
     ]
    }
   ],
   "source": [
    "#added new continent column; calculate mean variables\n",
    "\n",
    "print('Countries by country')\n",
    "country_counts = data.groupby('country').size()\n",
    "print(country_counts)\n",
    "print('\\n')\n",
    "\n",
    "print('GDP Statistics by country')\n",
    "gdp_mean = data.groupby('country')['incomeperperson'].agg([np.mean, np.median, len])\n",
    "print(gdp_mean)\n",
    "\n",
    "print('Urban rate by country')\n",
    "urban_mean = data.groupby('country')['urbanrate'].agg([np.mean, np.median, len])\n",
    "print(urban_mean)\n",
    "\n",
    "\n",
    "print('Urban rate by country')\n",
    "urban_mean = data.groupby('country')['internetuserate'].agg([np.mean, np.median, len])\n",
    "print(urban_mean)"
   ]
  },
  {
   "cell_type": "code",
   "execution_count": null,
   "metadata": {},
   "outputs": [],
   "source": []
  }
 ],
 "metadata": {
  "kernelspec": {
   "display_name": "Python 3",
   "language": "python",
   "name": "python3"
  },
  "language_info": {
   "codemirror_mode": {
    "name": "ipython",
    "version": 3
   },
   "file_extension": ".py",
   "mimetype": "text/x-python",
   "name": "python",
   "nbconvert_exporter": "python",
   "pygments_lexer": "ipython3",
   "version": "3.7.6"
  }
 },
 "nbformat": 4,
 "nbformat_minor": 4
}
